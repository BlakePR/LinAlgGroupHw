{
 "cells": [
  {
   "cell_type": "markdown",
   "metadata": {},
   "source": [
    "Setup:\n",
    "Consider the 1-d boundary value problem from fluid dynamics:\n",
    "$-u''(x)+V(x)u'(x)=f(x),x \\in [0,1]$ <br>\n",
    "$u(0) = u(1) = 1$ <br>\n",
    "and we will set: <br>\n",
    "V(x) = $\\gamma$ <br>\n",
    "f(x) = 1\n",
    "\n",
    "Part 1: Problem formulation: <br>\n",
    "a: write this as a variational problem: $A(u,\\phi)=F(\\phi)$\n",
    "for some test function $\\phi$ <br>\n"
   ]
  },
  {
   "cell_type": "markdown",
   "metadata": {},
   "source": [
    "$A(u,\\phi) = F(\\phi)$\n"
   ]
  },
  {
   "cell_type": "markdown",
   "metadata": {},
   "source": [
    "\n",
    "b: Take $\\phi_i$ to be the hat functions discussed in class and aproximate u as a linear combination of these basis vectors: $u(x)=\\sum_i u_i \\phi_i(x)$. Show that part (a) becomes a linear algebra problem of the form Ax=b.\n",
    "Derive expressions for the matrix A and bector b.\n",
    "Show $A_ji = A(\\phi_j,\\phi_i)$ and can be writte as the sum of two matrices A = A<sub>1</sub> + A<sub>2</sub> where A<sub>1</sub> and A<sub>2</sub> corresopond to the first two terms on the left hand side of the ODE"
   ]
  },
  {
   "cell_type": "markdown",
   "metadata": {},
   "source": [
    "c: Implement a routine that will return A as a sparse matrix and b given n and $\\gamma$"
   ]
  },
  {
   "cell_type": "code",
   "execution_count": 2,
   "metadata": {},
   "outputs": [
    {
     "name": "stdout",
     "output_type": "stream",
     "text": [
      "[[10.  -4.5  0.   0. ]\n",
      " [-5.5 10.  -4.5  0. ]\n",
      " [ 0.  -5.5 10.  -4.5]\n",
      " [ 0.   0.  -5.5 10. ]]\n",
      "[[0.2]\n",
      " [0.2]\n",
      " [0.2]\n",
      " [0.2]]\n"
     ]
    }
   ],
   "source": [
    "import MatGenerator as mg\n",
    "\n",
    "print(mg.generateA(4,1).todense())\n",
    "print(mg.generateB(4))"
   ]
  },
  {
   "cell_type": "markdown",
   "metadata": {},
   "source": [
    "Part 2: implement GMRES algorithm\n",
    "signature mygmres(l,b,x0,n,M,A)\n",
    "returns solution of Ax=b with initial iterate x0\n",
    "n is the dimension of the problem, A is nxn, M is nxn tha defines inner product use for calculateing vector norms (and error). Github, commits from all group members"
   ]
  },
  {
   "cell_type": "markdown",
   "metadata": {},
   "source": [
    "Part 3: Solving the FEM problem <br>\n",
    "use GMRES to solve for cases V(x) = 1 and V(x) = n+1 <br>\n",
    "using M as the identity matrix. for each case, run with n=12,32,64,128 and l=2,4,8,16,32,64, increasing l until the error (norm of residual divided by n) is below 10<sup>-6</sup><br>\n",
    "plot the most accurate solution (as a function of x) as well as the error vs functions of n and l"
   ]
  },
  {
   "cell_type": "markdown",
   "metadata": {},
   "source": []
  }
 ],
 "metadata": {
  "kernelspec": {
   "display_name": "631",
   "language": "python",
   "name": "python3"
  },
  "language_info": {
   "codemirror_mode": {
    "name": "ipython",
    "version": 3
   },
   "file_extension": ".py",
   "mimetype": "text/x-python",
   "name": "python",
   "nbconvert_exporter": "python",
   "pygments_lexer": "ipython3",
   "version": "3.11.7"
  }
 },
 "nbformat": 4,
 "nbformat_minor": 2
}
