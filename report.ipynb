{
 "cells": [
  {
   "cell_type": "markdown",
   "metadata": {},
   "source": [
    "Setup:\n",
    "Consider the 1-d boundary value problem from fluid dynamics:\n",
    "$-u''(x)+V(x)u'(x)=f(x),x \\in [0,1]$ <br>\n",
    "$u(0) = u(1) = 1$ <br>\n",
    "and we will set: <br>\n",
    "V(x) = $\\gamma$ <br>\n",
    "f(x) = 1\n",
    "\n",
    "Part 1: Problem formulation: <br>\n",
    "a: write this as a variational problem: $A(u,\\phi)=F(\\phi)$\n",
    "for some test function $\\phi$ <br>\n"
   ]
  },
  {
   "cell_type": "markdown",
   "metadata": {},
   "source": [
    "\n",
    "b: Take $\\phi_i$ to be the hat functions discussed in class and aproximate u as a linear combination of these basis vectors: $u(x)=\\sum_i u_i \\phi_i(x)$. Show that part (a) becomes a linear algebra problem of the form Ax=b.\n",
    "Derive expressions for the matrix A and bector b.\n",
    "Show $A_ji = A(\\phi_j,\\phi_i)$ and can be writte as the sum of two matrices A = A<sub>1</sub> + A<sub>2</sub> where A<sub>1</sub> and A<sub>2</sub> corresopond to the first two terms on the left hand side of the ODE"
   ]
  },
  {
   "cell_type": "markdown",
   "metadata": {},
   "source": [
    "c: Implement a routine that will return A as a sparse matrix and b given n and $\\gamma$"
   ]
  }
 ],
 "metadata": {
  "kernelspec": {
   "display_name": "631",
   "language": "python",
   "name": "python3"
  },
  "language_info": {
   "name": "python",
   "version": "3.11.7"
  }
 },
 "nbformat": 4,
 "nbformat_minor": 2
}
