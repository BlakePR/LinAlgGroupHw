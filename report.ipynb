{
 "cells": [
  {
   "cell_type": "markdown",
   "metadata": {},
   "source": [
    "Setup:\n",
    "Consider the 1-d boundary value problem from fluid dynamics:\n",
    "$-u''(x)+V(x)u'(x)=f(x),x \\in [0,1]$ <br>\n",
    "$u(0) = u(1) = 1$ <br>\n",
    "and we will set: <br>\n",
    "V(x) = $\\gamma$ <br>\n",
    "f(x) = 1\n",
    "\n",
    "Part 1: Problem formulation: <br>\n",
    "a: write this as a variational problem: $A(u,\\phi)=F(\\phi)$\n",
    "for some test function $\\phi$ <br>\n"
   ]
  },
  {
   "cell_type": "markdown",
   "metadata": {},
   "source": [
    "$A(u,\\phi) = F(\\phi)$\n"
   ]
  },
  {
   "cell_type": "markdown",
   "metadata": {},
   "source": [
    "\n",
    "b: Take $\\phi_i$ to be the hat functions discussed in class and aproximate u as a linear combination of these basis vectors: $u(x)=\\sum_i u_i \\phi_i(x)$. Show that part (a) becomes a linear algebra problem of the form Ax=b.\n",
    "Derive expressions for the matrix A and bector b.\n",
    "Show $A_ji = A(\\phi_j,\\phi_i)$ and can be writte as the sum of two matrices A = A<sub>1</sub> + A<sub>2</sub> where A<sub>1</sub> and A<sub>2</sub> corresopond to the first two terms on the left hand side of the ODE"
   ]
  },
  {
   "cell_type": "markdown",
   "metadata": {},
   "source": [
    "c: Implement a routine that will return A as a sparse matrix and b given n and $\\gamma$"
   ]
  },
  {
   "cell_type": "code",
   "execution_count": 2,
   "metadata": {},
   "outputs": [
    {
     "name": "stdout",
     "output_type": "stream",
     "text": [
      "[[10.  -4.5  0.   0. ]\n",
      " [-5.5 10.  -4.5  0. ]\n",
      " [ 0.  -5.5 10.  -4.5]\n",
      " [ 0.   0.  -5.5 10. ]]\n",
      "[[0.2]\n",
      " [0.2]\n",
      " [0.2]\n",
      " [0.2]]\n"
     ]
    }
   ],
   "source": [
    "import MatGenerator as mg\n",
    "\n",
    "print(mg.generateA(4,1).todense())\n",
    "print(mg.generateB(4))"
   ]
  },
  {
   "cell_type": "markdown",
   "metadata": {},
   "source": [
    "Part 2: implement GMRES algorithm\n",
    "signature mygmres(l,b,x0,n,M,A)\n",
    "returns solution of Ax=b with initial iterate x0\n",
    "n is the dimension of the problem, A is nxn, M is nxn tha defines inner product use for calculateing vector norms (and error). Github, commits from all group members"
   ]
  },
  {
   "cell_type": "markdown",
   "metadata": {},
   "source": [
    "Part 3: Solving the FEM problem <br>\n",
    "use GMRES to solve for cases V(x) = 1 and V(x) = n+1 <br>\n",
    "using M as the identity matrix. for each case, run with n=12,32,64,128 and l=2,4,8,16,32,64, increasing l until the error (norm of residual divided by n) is below 10<sup>-6</sup><br>\n",
    "plot the most accurate solution (as a function of x) as well as the error vs functions of n and l"
   ]
  },
  {
   "cell_type": "code",
   "execution_count": 5,
   "metadata": {},
   "outputs": [
    {
     "name": "stderr",
     "output_type": "stream",
     "text": [
      "c:\\Users\\romrellb\\Documents\\phys530\\LinAlgGroupHw\\GMRES.py:44: FutureWarning: `rcond` parameter will change to the default of machine precision times ``max(M, N)`` where M and N are the input matrix dimensions.\n",
      "To use the future default and silence this warning we advise to pass `rcond=None`, to keep using the old, explicitly pass `rcond=-1`.\n",
      "  ym = np.linalg.solve(H,Beta*e1)\n"
     ]
    },
    {
     "ename": "ValueError",
     "evalue": "setting an array element with a sequence. The requested array has an inhomogeneous shape after 1 dimensions. The detected shape was (4,) + inhomogeneous part.",
     "output_type": "error",
     "traceback": [
      "\u001b[1;31m---------------------------------------------------------------------------\u001b[0m",
      "\u001b[1;31mValueError\u001b[0m                                Traceback (most recent call last)",
      "Cell \u001b[1;32mIn[5], line 9\u001b[0m\n\u001b[0;32m      6\u001b[0m \u001b[38;5;28;01mimport\u001b[39;00m \u001b[38;5;21;01mnumpy\u001b[39;00m \u001b[38;5;28;01mas\u001b[39;00m \u001b[38;5;21;01mnp\u001b[39;00m\n\u001b[0;32m      8\u001b[0m alg \u001b[38;5;241m=\u001b[39m GM\u001b[38;5;241m.\u001b[39mgmres()\n\u001b[1;32m----> 9\u001b[0m \u001b[43malg\u001b[49m\u001b[38;5;241;43m.\u001b[39;49m\u001b[43mmygmres\u001b[49m\u001b[43m(\u001b[49m\u001b[38;5;241;43m12\u001b[39;49m\u001b[43m,\u001b[49m\u001b[43mB\u001b[49m\u001b[43m,\u001b[49m\u001b[43m \u001b[49m\u001b[43mnp\u001b[49m\u001b[38;5;241;43m.\u001b[39;49m\u001b[43mzeros\u001b[49m\u001b[43m(\u001b[49m\u001b[43m(\u001b[49m\u001b[38;5;241;43m12\u001b[39;49m\u001b[43m,\u001b[49m\u001b[38;5;241;43m1\u001b[39;49m\u001b[43m)\u001b[49m\u001b[43m)\u001b[49m\u001b[43m,\u001b[49m\u001b[38;5;241;43m12\u001b[39;49m\u001b[43m,\u001b[49m\u001b[43mnp\u001b[49m\u001b[38;5;241;43m.\u001b[39;49m\u001b[43meye\u001b[49m\u001b[43m(\u001b[49m\u001b[38;5;241;43m12\u001b[39;49m\u001b[43m)\u001b[49m\u001b[43m,\u001b[49m\u001b[43mA\u001b[49m\u001b[43m)\u001b[49m\n\u001b[0;32m     10\u001b[0m err \u001b[38;5;241m=\u001b[39m alg\u001b[38;5;241m.\u001b[39merrors\n\u001b[0;32m     12\u001b[0m \u001b[38;5;28;01mimport\u001b[39;00m \u001b[38;5;21;01mmatplotlib\u001b[39;00m\u001b[38;5;21;01m.\u001b[39;00m\u001b[38;5;21;01mpyplot\u001b[39;00m \u001b[38;5;28;01mas\u001b[39;00m \u001b[38;5;21;01mplt\u001b[39;00m\n",
      "File \u001b[1;32mc:\\Users\\romrellb\\Documents\\phys530\\LinAlgGroupHw\\GMRES.py:45\u001b[0m, in \u001b[0;36mgmres.mygmres\u001b[1;34m(self, l, b, x0, n, M, A)\u001b[0m\n\u001b[0;32m     43\u001b[0m     e1[\u001b[38;5;241m0\u001b[39m,\u001b[38;5;241m0\u001b[39m] \u001b[38;5;241m=\u001b[39m \u001b[38;5;241m1\u001b[39m\n\u001b[0;32m     44\u001b[0m     ym \u001b[38;5;241m=\u001b[39m np\u001b[38;5;241m.\u001b[39mlinalg\u001b[38;5;241m.\u001b[39mlstsq(H,Beta\u001b[38;5;241m*\u001b[39me1)\n\u001b[1;32m---> 45\u001b[0m     xm \u001b[38;5;241m=\u001b[39m x0 \u001b[38;5;241m+\u001b[39m \u001b[43mV\u001b[49m\u001b[38;5;129;43m@ym\u001b[39;49m\n\u001b[0;32m     47\u001b[0m     m \u001b[38;5;241m=\u001b[39m m\u001b[38;5;241m*\u001b[39m\u001b[38;5;241m2\u001b[39m \u001b[38;5;28;01mif\u001b[39;00m m\u001b[38;5;241m*\u001b[39m\u001b[38;5;241m2\u001b[39m \u001b[38;5;241m<\u001b[39m l \u001b[38;5;28;01melse\u001b[39;00m l\n\u001b[0;32m     48\u001b[0m \u001b[38;5;28;01mreturn\u001b[39;00m xm\n",
      "\u001b[1;31mValueError\u001b[0m: setting an array element with a sequence. The requested array has an inhomogeneous shape after 1 dimensions. The detected shape was (4,) + inhomogeneous part."
     ]
    }
   ],
   "source": [
    "import MatGenerator as mg\n",
    "A = mg.generateA(12,1.)\n",
    "B = mg.generateB(12)\n",
    "import GMRES as GM\n",
    "from importlib import reload\n",
    "reload(GM)\n",
    "import numpy as np\n",
    "\n",
    "alg = GM.gmres()\n",
    "alg.mygmres(12,B, np.zeros((12,1)),12,np.eye(12),A)\n",
    "err = alg.errors\n",
    "\n",
    "import matplotlib.pyplot as plt\n",
    "plt.figure()\n",
    "plt.plot(err)\n"
   ]
  },
  {
   "cell_type": "markdown",
   "metadata": {},
   "source": []
  }
 ],
 "metadata": {
  "kernelspec": {
   "display_name": "631",
   "language": "python",
   "name": "python3"
  },
  "language_info": {
   "codemirror_mode": {
    "name": "ipython",
    "version": 3
   },
   "file_extension": ".py",
   "mimetype": "text/x-python",
   "name": "python",
   "nbconvert_exporter": "python",
   "pygments_lexer": "ipython3",
   "version": "3.11.7"
  }
 },
 "nbformat": 4,
 "nbformat_minor": 2
}
